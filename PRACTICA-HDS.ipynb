{
 "cells": [
  {
   "cell_type": "markdown",
   "metadata": {},
   "source": [
    "# EJERCICIO NRO 01\n",
    "# Escribir un programa que almacene una cadena de caracteres para contraseña en una variable y pregunte al usuario por la contraseña e imprima por pantalla si la contraseña introducida por el usuario coincide con la guardada en la variable sin tener en cuenta mayusculas y minusculas."
   ]
  },
  {
   "cell_type": "code",
   "execution_count": 1,
   "metadata": {},
   "outputs": [
    {
     "name": "stdout",
     "output_type": "stream",
     "text": [
      "¡La contraseña es correcta!\n"
     ]
    }
   ],
   "source": [
    "CONTRASEÑA_GUARDADA = \"MI CONTRASEÑA SEGURIDAD\"\n",
    "\n",
    "CONTRASEÑA_DEL_USUARIO = input(\"Por favor, ingresa la contraseña: \")\n",
    "\n",
    "if CONTRASEÑA_GUARDADA.lower() == CONTRASEÑA_DEL_USUARIO.lower():\n",
    "    print(\"¡La contraseña es correcta!\")\n",
    "else:\n",
    "    print(\"La contraseña es incorrecta. Inténtalo de nuevo.\")\n",
    "    "
   ]
  },
  {
   "cell_type": "markdown",
   "metadata": {},
   "source": [
    "# EJERCICIO NRO 02\n",
    "# Escribir un programa que pida al usuario dos numeros y muestre por pantalla su division si el divisor es cero el programa debe mostrar un error."
   ]
  },
  {
   "cell_type": "code",
   "execution_count": 2,
   "metadata": {},
   "outputs": [
    {
     "name": "stdout",
     "output_type": "stream",
     "text": [
      "El resultado de la división es: 4.0\n"
     ]
    }
   ],
   "source": [
    "EL_DIVIDENDO = float(input(\"INGRESA EL_DIVIDENDO: \"))\n",
    "EL_DIVISOR = float(input(\"INGRESA EL_DIVISOR: \"))\n",
    "\n",
    "\n",
    "if EL_DIVISOR == 0:\n",
    "    print(\"Error: No se puede dividir por cero.\")\n",
    "else:\n",
    " \n",
    "    EL_RESULTADO = EL_DIVIDENDO / EL_DIVISOR\n",
    "    print(\"El resultado de la división es:\", EL_RESULTADO)\n"
   ]
  },
  {
   "cell_type": "markdown",
   "metadata": {},
   "source": [
    "# EJERCICIO NRO 03\n",
    "# Un ciudadano para crear su empresa y pagar impuestos debe de ser mayor de 18 años y tener unos ingresos iguales o superiore a 2000 soles mensuales. Escribir un programa que pregunte al usuario su edad y sus ingresos mensuales y muestre por pantalla si el usuario tiene que pagar impuestos o no. "
   ]
  },
  {
   "cell_type": "code",
   "execution_count": 3,
   "metadata": {},
   "outputs": [
    {
     "name": "stdout",
     "output_type": "stream",
     "text": [
      "No estás obligado a pagar impuestos en este momento.\n"
     ]
    }
   ],
   "source": [
    "MI_EDAD_WENDY = int(input(\"Por favor, ingresa tu edad: \"))\n",
    "INGRESOS_MENSUALES = float(input(\"Ingresa tus ingresos mensuales en soles: \"))\n",
    "\n",
    "\n",
    "if MI_EDAD_WENDY >= 18 and INGRESOS_MENSUALES >= 2000:\n",
    "    print(\"¡Debes pagar impuestos!\")\n",
    "else:\n",
    "    print(\"No estás obligado a pagar impuestos en este momento.\")\n"
   ]
  },
  {
   "cell_type": "markdown",
   "metadata": {},
   "source": [
    "# EJERCICIO NRO 04\n",
    "#  Los alumnos de un curso de HDS se han dividido en dos grupos A y B de acuerdo al sexo y el nombre. El grupo A esta formado por las mujeres con nombre anterior a la M y los hombres con un nombre posterior a la N y el grupo B por el resto. Escribir programa que pregunte al usuario su nombre y sexo, y muestre por pantalla el grupo que le corresponde."
   ]
  },
  {
   "cell_type": "code",
   "execution_count": 4,
   "metadata": {},
   "outputs": [
    {
     "name": "stdout",
     "output_type": "stream",
     "text": [
      "Tu nombre y MY_SEXO te clasifican en el grupo: B\n"
     ]
    }
   ],
   "source": [
    "MY_NOMBRE = input(\"Por favor, ingresa tu MY_NOMBRE: \")\n",
    "MY_SEXO = input(\"Ingresa tu MY_SEXO (Femenino o Masculino): \")\n",
    "\n",
    "nombre = MY_NOMBRE.lower()\n",
    "\n",
    "if (MY_SEXO.lower() == \"femenino\" and nombre < \"m\") or (MY_SEXO.lower() == \"masculino\" and nombre > \"n\"):\n",
    "    grupo = \"A\"\n",
    "else:\n",
    "    grupo = \"B\"\n",
    "\n",
    "print(\"Tu nombre y MY_SEXO te clasifican en el grupo:\", grupo)\n"
   ]
  },
  {
   "cell_type": "markdown",
   "metadata": {},
   "source": [
    "# EJERCICIO NRO 05\n",
    "# Una empresa tiene diferentes salasjuegos para todas las edades y quiere un programa que calcule la forma automática el precio que debe cobrar sus clientes por entrar.El programa debe preguntar al usuario edad del cliente y mostrar el precio de la entrada. Si el cliente es menor de 4 años puede entrar gratis, si tiene entre 4 y 18 años debe pagar 10 soles y si es mayor de 18 años, 20 soles."
   ]
  },
  {
   "cell_type": "code",
   "execution_count": 5,
   "metadata": {},
   "outputs": [
    {
     "name": "stdout",
     "output_type": "stream",
     "text": [
      "El precio de la entrada para CLIENTE de 25 años es: 20 soles.\n"
     ]
    }
   ],
   "source": [
    "EDAD = int(input(\"DE SER AMABLE INGRESE LA EDAD DEL CLIENTE: \"))\n",
    "\n",
    "if EDAD < 4:\n",
    "    PRECIO_DE_ENTRADA = 0  # Menores de 4 años entran gratis\n",
    "elif 4 <= EDAD <= 18:\n",
    "    PRECIO_DE_ENTRADA = 10  # Clientes de 4 a 18 años pagan 10 soles\n",
    "else:\n",
    "    PRECIO_DE_ENTRADA = 20  # Clientes mayores de 18 años pagan 20 soles\n",
    "\n",
    "\n",
    "print(f\"El precio de la entrada para CLIENTE de {EDAD} años es: {PRECIO_DE_ENTRADA} soles.\")"
   ]
  },
  {
   "cell_type": "markdown",
   "metadata": {},
   "source": [
    "# EJERCICIO NRO 06\n",
    "# Escribir un programa que pregunte al usuario su edad y muestre por pantalla todos los años que ha cumplido, desde su primer añito."
   ]
  },
  {
   "cell_type": "code",
   "execution_count": 7,
   "metadata": {},
   "outputs": [
    {
     "name": "stdout",
     "output_type": "stream",
     "text": [
      "Años cumplidos desde tu primer año hasta la MY_EDAD actual:\n",
      "1\n",
      "2\n",
      "3\n",
      "4\n",
      "5\n",
      "6\n",
      "7\n",
      "8\n",
      "9\n",
      "10\n",
      "11\n",
      "12\n"
     ]
    }
   ],
   "source": [
    "MY_EDAD = int(input(\"PLIS INGRESA TU MY_EDAD: \"))\n",
    "\n",
    "\n",
    "print(\"Años cumplidos desde tu primer año hasta la MY_EDAD actual:\")\n",
    "for i in range(1, MY_EDAD + 1):\n",
    "    print(i)"
   ]
  },
  {
   "cell_type": "markdown",
   "metadata": {},
   "source": [
    "# EJERCICIO NRO 07\n",
    "# Escribir un programa que pida al usuario un número entero y muestre por pantalla un triángulo rectángulo como el de más abajo, de altura el número introducido."
   ]
  },
  {
   "cell_type": "code",
   "execution_count": 8,
   "metadata": {},
   "outputs": [
    {
     "name": "stdout",
     "output_type": "stream",
     "text": [
      "&\n",
      "&&\n",
      "&&&\n",
      "&&&&\n",
      "&&&&&\n",
      "&&&&&&\n",
      "&&&&&&&\n",
      "&&&&&&&&\n",
      "&&&&&&&&&\n",
      "&&&&&&&&&&\n",
      "&&&&&&&&&&&\n",
      "&&&&&&&&&&&&\n",
      "&&&&&&&&&&&&&\n",
      "&&&&&&&&&&&&&&\n",
      "&&&&&&&&&&&&&&&\n",
      "&&&&&&&&&&&&&&&&\n"
     ]
    }
   ],
   "source": [
    "LA_ALTURA = int(input(\"INGRESA UN NUMERO ENTERO PARA LA ALTURA DEL TRIANGULO: \"))\n",
    "\n",
    "for i in range(1, LA_ALTURA + 1):\n",
    "    print(\"&\" * i)"
   ]
  },
  {
   "cell_type": "markdown",
   "metadata": {},
   "source": [
    "# EJERCICIO NRO 08\n",
    "# Escribir un programa que pida al usuario una palabra y luego muestre por pantalla una de las letras de la palabra introducida empezando por la última."
   ]
  },
  {
   "cell_type": "code",
   "execution_count": 9,
   "metadata": {},
   "outputs": [
    {
     "name": "stdout",
     "output_type": "stream",
     "text": [
      "Las letras de la palabra_INGRESADA introducida, empezando por la última:\n",
      "S\n",
      "E\n",
      "N\n",
      "A\n",
      "P\n",
      "I\n",
      "L\n",
      "U\n",
      "T\n"
     ]
    }
   ],
   "source": [
    "palabra_INGRESADA = input(\"Por favor, ingresa una palabra_INGRESADA: \")\n",
    "\n",
    "print(\"Las letras de la palabra_INGRESADA introducida, empezando por la última:\")\n",
    "for letra in reversed(palabra_INGRESADA):\n",
    "    print(letra)\n"
   ]
  },
  {
   "cell_type": "markdown",
   "metadata": {},
   "source": [
    "# EJERCICIO NRO 09\n",
    "# Escribir un programa en el que se pregunte al usuario por una frase y una letra, y muestre por pantalla el número de veces que aparece la letra en la frase."
   ]
  },
  {
   "cell_type": "code",
   "execution_count": 10,
   "metadata": {},
   "outputs": [
    {
     "name": "stdout",
     "output_type": "stream",
     "text": [
      "La letra 'A' aparece 5 veces en la ESLOGAN.\n"
     ]
    }
   ],
   "source": [
    "ESLOGAN = input(\"Por favor, ingresa un ESLOGAN: \")\n",
    "\n",
    "letra = input(\"Ingresa una letra para buscar en la ESLOGAN: \")\n",
    "\n",
    "CONTADOR = ESLOGAN.count(letra)\n",
    "\n",
    "print(f\"La letra '{letra}' aparece {CONTADOR} veces en la ESLOGAN.\")\n"
   ]
  },
  {
   "cell_type": "markdown",
   "metadata": {},
   "source": [
    "# EJERCICIO NRO 10\n",
    "# Escribir un programa que pida al usuario un número entero y muestre por pantalla un triángulo rectángulo como el de más abajo."
   ]
  },
  {
   "cell_type": "code",
   "execution_count": 11,
   "metadata": {},
   "outputs": [
    {
     "name": "stdout",
     "output_type": "stream",
     "text": [
      "1\n",
      "21\n",
      "321\n",
      "4321\n",
      "54321\n",
      "654321\n",
      "7654321\n",
      "87654321\n",
      "987654321\n",
      "10987654321\n"
     ]
    }
   ],
   "source": [
    "UN_NUMERO = int(input(\"INGRESA UN NUMERO ENTERO: \"))\n",
    "\n",
    "for i in range(1, UN_NUMERO + 1):\n",
    "    for j in range(i, 0, -1):\n",
    "        print(j, end=\"\")\n",
    "    print()  \n"
   ]
  }
 ],
 "metadata": {
  "kernelspec": {
   "display_name": "Python 3",
   "language": "python",
   "name": "python3"
  },
  "language_info": {
   "codemirror_mode": {
    "name": "ipython",
    "version": 3
   },
   "file_extension": ".py",
   "mimetype": "text/x-python",
   "name": "python",
   "nbconvert_exporter": "python",
   "pygments_lexer": "ipython3",
   "version": "3.11.9"
  }
 },
 "nbformat": 4,
 "nbformat_minor": 2
}
