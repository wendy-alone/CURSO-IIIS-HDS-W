{
 "cells": [
  {
   "cell_type": "markdown",
   "metadata": {},
   "source": [
    "# PARA CREAR UN DICCIONARIO EN PYTHON, PODEMOS UTILIZAR LLAVES { } Y SEPARAR CADA PAR CLAVE-VALOR CON DOS PUNTOS:"
   ]
  },
  {
   "cell_type": "code",
   "execution_count": 1,
   "metadata": {},
   "outputs": [
    {
     "name": "stdout",
     "output_type": "stream",
     "text": [
      "{'Juan': 16, 'Ana': 18, 'Luis': 17}\n"
     ]
    }
   ],
   "source": [
    "estudiantes = {'Juan': 16, 'Ana': 18, 'Luis': 17}\n",
    "print(estudiantes) # {'Juan': 16, 'Ana': 18, 'Luis': 17}"
   ]
  },
  {
   "cell_type": "markdown",
   "metadata": {},
   "source": [
    "# CREAR UN DICCIONARIO UTILIZANDO LA FUNCIÓN dict() Y PASANDO UNA LISTA DE TUPLAS CLAVE:VALOR:"
   ]
  },
  {
   "cell_type": "code",
   "execution_count": 2,
   "metadata": {},
   "outputs": [
    {
     "name": "stdout",
     "output_type": "stream",
     "text": [
      "{'Juan': 16, 'Ana': 18, 'Luis': 17}\n"
     ]
    }
   ],
   "source": [
    "estudiantes = dict([('Juan', 16), ('Ana', 18), ('Luis', 17)])\n",
    "print(estudiantes) # {'Juan': 16, 'Ana': 18, 'Luis': 17}"
   ]
  },
  {
   "cell_type": "markdown",
   "metadata": {},
   "source": [
    "# AGREGAR UN ELEMENTO A UN DICCIONARIO, PODEMOS UTILIZAR LA SINTAXIS diccionario[nueva_clave] = nuevo_valor:"
   ]
  },
  {
   "cell_type": "code",
   "execution_count": 3,
   "metadata": {},
   "outputs": [
    {
     "name": "stdout",
     "output_type": "stream",
     "text": [
      "{'Juan': 16, 'Ana': 18, 'Luis': 17, 'Maria': 15}\n"
     ]
    }
   ],
   "source": [
    "estudiantes = {'Juan': 16, 'Ana': 18, 'Luis': 17}\n",
    "estudiantes['Maria'] = 15\n",
    "print(estudiantes) # {'Juan': 16, 'Ana': 18, 'Luis': 17, 'Maria': 15}"
   ]
  },
  {
   "cell_type": "markdown",
   "metadata": {},
   "source": [
    "# MODIFICAR EL VALOR DE UNA CLAVE EXISTENTE EN EL DICCIONARIO, SIMPLEMENTE PODEMOS ASIGNAR UN NUEVO VALOR A LA CLAVE:"
   ]
  },
  {
   "cell_type": "code",
   "execution_count": 4,
   "metadata": {},
   "outputs": [
    {
     "name": "stdout",
     "output_type": "stream",
     "text": [
      "{'Juan': 16, 'Ana': 19, 'Luis': 17}\n"
     ]
    }
   ],
   "source": [
    "estudiantes = {'Juan': 16, 'Ana': 18, 'Luis': 17}\n",
    "estudiantes['Ana'] = 19\n",
    "print(estudiantes) # {'Juan': 16, 'Ana': 19, 'Luis': 17}\n"
   ]
  },
  {
   "cell_type": "markdown",
   "metadata": {},
   "source": [
    "# ELIMINAR UN ELEMENTO DE UN DICCIONARIO, PODEMOS UTILIZAR LA PALABRA CLAVE DEL SEGUIDA DE LA CLAVE A ELIMINAR:"
   ]
  },
  {
   "cell_type": "code",
   "execution_count": 5,
   "metadata": {},
   "outputs": [
    {
     "name": "stdout",
     "output_type": "stream",
     "text": [
      "{'Ana': 18, 'Luis': 17}\n"
     ]
    }
   ],
   "source": [
    "estudiantes = {'Juan': 16, 'Ana': 18, 'Luis': 17}\n",
    "del estudiantes['Juan']\n",
    "print(estudiantes) # {'Ana': 18, 'Luis': 17}"
   ]
  },
  {
   "cell_type": "markdown",
   "metadata": {},
   "source": [
    "# ACCEDER A LOS ELEMENTOS DE UN DICCIONARIO, PODEMOS UTILIZAR LA CLAVE CORRESPONDIENTE:"
   ]
  },
  {
   "cell_type": "code",
   "execution_count": 6,
   "metadata": {},
   "outputs": [
    {
     "name": "stdout",
     "output_type": "stream",
     "text": [
      "18\n"
     ]
    }
   ],
   "source": [
    "estudiantes = {'Juan': 16, 'Ana': 18, 'Luis': 17}\n",
    "print(estudiantes['Ana']) # 18"
   ]
  },
  {
   "cell_type": "markdown",
   "metadata": {},
   "source": [
    "# SI LA CLAVE NO EXISTE EN EL DICCIONARIO, SE LANZARÁ UN ERROR. PARA EVITAR ESTE ERROR, PODEMOS UTILIZAR EL MÉTODO get():"
   ]
  },
  {
   "cell_type": "code",
   "execution_count": 7,
   "metadata": {},
   "outputs": [
    {
     "name": "stdout",
     "output_type": "stream",
     "text": [
      "No existe\n"
     ]
    }
   ],
   "source": [
    "estudiantes = {'Juan': 16, 'Ana': 18, 'Luis': 17}\n",
    "print(estudiantes.get('Maria', 'No existe')) # 'No existe'\n"
   ]
  },
  {
   "cell_type": "markdown",
   "metadata": {},
   "source": [
    "# ITERAR A TRAVÉS DE LOS ELEMENTOS DE UN DICCIONARIO UTILIZANDO UN BUCLE for. EL BUCLE for ITERA A TRAVÉS DE LAS CLAVES POR DEFECTO, PERO PODEMOS ACCEDER A LOS VALORES UTILIZANDO LAS CLAVES:"
   ]
  },
  {
   "cell_type": "code",
   "execution_count": 8,
   "metadata": {},
   "outputs": [
    {
     "name": "stdout",
     "output_type": "stream",
     "text": [
      "Juan 16\n",
      "Ana 18\n",
      "Luis 17\n"
     ]
    }
   ],
   "source": [
    "estudiantes = {'Juan': 16, 'Ana': 18, 'Luis': 17}\n",
    "for clave in estudiantes:\n",
    "    print(clave, estudiantes[clave])"
   ]
  },
  {
   "cell_type": "markdown",
   "metadata": {},
   "source": [
    "# PODEMOS UTILIZAR EL MÉTODO items() PARA OBTENER UNA LISTA DE TUPLAS CLAVE:VALOR Y LUEGO ITERAR A TRAVÉS DE ELLAS:"
   ]
  },
  {
   "cell_type": "code",
   "execution_count": 9,
   "metadata": {},
   "outputs": [
    {
     "name": "stdout",
     "output_type": "stream",
     "text": [
      "Juan 16\n",
      "Ana 18\n",
      "Luis 17\n"
     ]
    }
   ],
   "source": [
    "estudiantes = {'Juan': 16, 'Ana': 18, 'Luis': 17}\n",
    "for clave, valor in estudiantes.items():\n",
    "    print(clave, valor)"
   ]
  },
  {
   "cell_type": "markdown",
   "metadata": {},
   "source": [
    "# VERIFICACIÓN DE PERTENENCIA UTILIZANDO EL OPERADOR IN PARA VERIFICAR SI UNA CLAVE EXISTE EN EL DICCIONARIO:"
   ]
  },
  {
   "cell_type": "code",
   "execution_count": 10,
   "metadata": {},
   "outputs": [
    {
     "name": "stdout",
     "output_type": "stream",
     "text": [
      "Ana es un estudiante\n"
     ]
    }
   ],
   "source": [
    "estudiantes = {'Juan': 16, 'Ana': 18, 'Luis': 17}\n",
    "if 'Ana' in estudiantes:\n",
    "    print('Ana es un estudiante')"
   ]
  },
  {
   "cell_type": "markdown",
   "metadata": {},
   "source": [
    "# PODEMOS UTILIZAR EL MÉTODO len() PARA OBTENER LA CANTIDAD DE PARES CLAVE-VALOR EN EL DICCIONARIO:"
   ]
  },
  {
   "cell_type": "code",
   "execution_count": 11,
   "metadata": {},
   "outputs": [
    {
     "name": "stdout",
     "output_type": "stream",
     "text": [
      "3\n"
     ]
    }
   ],
   "source": [
    "estudiantes = {'Juan': 16, 'Ana': 18, 'Luis': 17}\n",
    "print(len(estudiantes)) # 3"
   ]
  }
 ],
 "metadata": {
  "kernelspec": {
   "display_name": "Python 3",
   "language": "python",
   "name": "python3"
  },
  "language_info": {
   "codemirror_mode": {
    "name": "ipython",
    "version": 3
   },
   "file_extension": ".py",
   "mimetype": "text/x-python",
   "name": "python",
   "nbconvert_exporter": "python",
   "pygments_lexer": "ipython3",
   "version": "3.11.9"
  }
 },
 "nbformat": 4,
 "nbformat_minor": 2
}
