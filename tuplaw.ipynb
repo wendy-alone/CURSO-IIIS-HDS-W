{
 "cells": [
  {
   "cell_type": "markdown",
   "metadata": {},
   "source": [
    "# CREAR TUPLAS EN PYTON:"
   ]
  },
  {
   "cell_type": "code",
   "execution_count": null,
   "metadata": {},
   "outputs": [],
   "source": [
    "mi_tupla = (1, 2, 3, 4)\n",
    "\n",
    "mi_lista = [1, 2, 3, 4]\n",
    "mi_tupla = tuple(mi_lista)\n",
    "\n",
    "mi_tupla = 1, 2, 3, 4\n",
    "\n",
    "mi_tupla = (1,)"
   ]
  },
  {
   "cell_type": "markdown",
   "metadata": {},
   "source": [
    "# ACCEDER A UN ELEMENTO DE UNA TUPLA:"
   ]
  },
  {
   "cell_type": "code",
   "execution_count": 1,
   "metadata": {},
   "outputs": [
    {
     "name": "stdout",
     "output_type": "stream",
     "text": [
      "3\n"
     ]
    }
   ],
   "source": [
    "mi_tupla = (1, 2, 3, 4)\n",
    "print(mi_tupla[2]) # Imprime 3\n"
   ]
  },
  {
   "cell_type": "markdown",
   "metadata": {},
   "source": [
    "# UTILIZAR UNA VARIABLE PARA ALMACENAR EL ÍNDICE Y ACCEDER AL ELEMENTO CORRESPONDIENTE:"
   ]
  },
  {
   "cell_type": "code",
   "execution_count": 2,
   "metadata": {},
   "outputs": [
    {
     "name": "stdout",
     "output_type": "stream",
     "text": [
      "3\n"
     ]
    }
   ],
   "source": [
    "mi_tupla = (1, 2, 3, 4)\n",
    "indice = 2\n",
    "print(mi_tupla[indice]) # Imprime 3"
   ]
  },
  {
   "cell_type": "markdown",
   "metadata": {},
   "source": [
    "# ACCEDER A UN ELEMENTO DE UNA TUPLA UTILIZANDO UNA INDEXACIÓN NEGATIVA:"
   ]
  },
  {
   "cell_type": "code",
   "execution_count": 3,
   "metadata": {},
   "outputs": [
    {
     "name": "stdout",
     "output_type": "stream",
     "text": [
      "3\n"
     ]
    }
   ],
   "source": [
    "mi_tupla = (1, 2, 3, 4)\n",
    "print(mi_tupla[-2]) # Imprime 3"
   ]
  },
  {
   "cell_type": "markdown",
   "metadata": {},
   "source": [
    "# ACCEDER A UN RANGO DE ELEMENTOS DE UNA TUPLA:"
   ]
  },
  {
   "cell_type": "code",
   "execution_count": 4,
   "metadata": {},
   "outputs": [
    {
     "name": "stdout",
     "output_type": "stream",
     "text": [
      "(2, 3)\n"
     ]
    }
   ],
   "source": [
    "mi_tupla = (1, 2, 3, 4, 5)\n",
    "print(mi_tupla[1:3]) # Imprime (2, 3)"
   ]
  },
  {
   "cell_type": "markdown",
   "metadata": {},
   "source": [
    "# ACCEDER A TODOS LOS ELEMENTOS DESDE EL INICIO DE UNA TUPLA:"
   ]
  },
  {
   "cell_type": "code",
   "execution_count": 5,
   "metadata": {},
   "outputs": [
    {
     "name": "stdout",
     "output_type": "stream",
     "text": [
      "(1, 2, 3)\n"
     ]
    }
   ],
   "source": [
    "mi_tupla = (1, 2, 3, 4, 5)\n",
    "print(mi_tupla[:3]) # Imprime (1, 2, 3)"
   ]
  },
  {
   "cell_type": "markdown",
   "metadata": {},
   "source": [
    "# ACCEDER A TODOS LOS ELEMENTOS HASTA EL FINAL DE UNA TUPLA:"
   ]
  },
  {
   "cell_type": "code",
   "execution_count": 6,
   "metadata": {},
   "outputs": [
    {
     "name": "stdout",
     "output_type": "stream",
     "text": [
      "(3, 4, 5)\n"
     ]
    }
   ],
   "source": [
    "mi_tupla = (1, 2, 3, 4, 5)\n",
    "print(mi_tupla[2:]) # Imprime (3, 4, 5)"
   ]
  },
  {
   "cell_type": "markdown",
   "metadata": {},
   "source": [
    "# ACCEDER A CADA SEGUNDO ELEMENTO DE UNA TUPLA:"
   ]
  },
  {
   "cell_type": "code",
   "execution_count": 7,
   "metadata": {},
   "outputs": [
    {
     "name": "stdout",
     "output_type": "stream",
     "text": [
      "(1, 3, 5)\n"
     ]
    }
   ],
   "source": [
    "mi_tupla = (1, 2, 3, 4, 5)\n",
    "print(mi_tupla[::2]) # Imprime (1, 3, 5)"
   ]
  },
  {
   "cell_type": "markdown",
   "metadata": {},
   "source": [
    "# ACCEDER A UNA GAMA DE ELEMENTOS DE UNA TUPLA UTILIZANDO ÍNDICES NEGATIVOS:"
   ]
  },
  {
   "cell_type": "code",
   "execution_count": 8,
   "metadata": {},
   "outputs": [
    {
     "name": "stdout",
     "output_type": "stream",
     "text": [
      "(3, 4)\n"
     ]
    }
   ],
   "source": [
    "mi_tupla = (1, 2, 3, 4, 5)\n",
    "print(mi_tupla[-3:-1]) # Imprime (3, 4)"
   ]
  },
  {
   "cell_type": "markdown",
   "metadata": {},
   "source": [
    "# ACCEDER A CADA SEGUNDO ELEMENTO DE UNA TUPLA UTILIZANDO ÍNDICES NEGATIVOS:"
   ]
  },
  {
   "cell_type": "code",
   "execution_count": 9,
   "metadata": {},
   "outputs": [
    {
     "name": "stdout",
     "output_type": "stream",
     "text": [
      "(4, 2)\n"
     ]
    }
   ],
   "source": [
    "mi_tupla = (1, 2, 3, 4, 5)\n",
    "print(mi_tupla[-2::-2]) # Imprime (4, 2)\n"
   ]
  },
  {
   "cell_type": "markdown",
   "metadata": {},
   "source": [
    "# CÓMO COMPROBAR SI UN ELEMENTO EXISTE EN UNA TUPLA:"
   ]
  },
  {
   "cell_type": "code",
   "execution_count": 10,
   "metadata": {},
   "outputs": [
    {
     "name": "stdout",
     "output_type": "stream",
     "text": [
      "True\n",
      "False\n"
     ]
    }
   ],
   "source": [
    "mi_tupla = (1, 2, 3, 4)\n",
    "print(2 in mi_tupla) # Imprime True\n",
    "print(5 in mi_tupla) # Imprime False"
   ]
  },
  {
   "cell_type": "markdown",
   "metadata": {},
   "source": [
    "# CÓMO COMPROBAR SI UN ELEMENTO NO EXISTE EN UNA TUPLA:"
   ]
  },
  {
   "cell_type": "code",
   "execution_count": 11,
   "metadata": {},
   "outputs": [
    {
     "name": "stdout",
     "output_type": "stream",
     "text": [
      "False\n",
      "True\n"
     ]
    }
   ],
   "source": [
    "mi_tupla = (1, 2, 3, 4)\n",
    "print(2 not in mi_tupla) # Imprime False\n",
    "print(5 not in mi_tupla) # Imprime True"
   ]
  }
 ],
 "metadata": {
  "kernelspec": {
   "display_name": "Python 3",
   "language": "python",
   "name": "python3"
  },
  "language_info": {
   "codemirror_mode": {
    "name": "ipython",
    "version": 3
   },
   "file_extension": ".py",
   "mimetype": "text/x-python",
   "name": "python",
   "nbconvert_exporter": "python",
   "pygments_lexer": "ipython3",
   "version": "3.11.9"
  }
 },
 "nbformat": 4,
 "nbformat_minor": 2
}
